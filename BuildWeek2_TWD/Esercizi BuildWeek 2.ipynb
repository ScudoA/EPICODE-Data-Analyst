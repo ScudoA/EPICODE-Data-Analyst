{
 "cells": [
  {
   "cell_type": "code",
   "execution_count": 5,
   "metadata": {},
   "outputs": [
    {
     "name": "stderr",
     "output_type": "stream",
     "text": [
      "/var/folders/q5/q98k7fks5y724f1gx0w7xxlm0000gn/T/ipykernel_3061/426348397.py:1: DeprecationWarning: \n",
      "Pyarrow will become a required dependency of pandas in the next major release of pandas (pandas 3.0),\n",
      "(to allow more performant data types, such as the Arrow string type, and better interoperability with other libraries)\n",
      "but was not found to be installed on your system.\n",
      "If this would cause problems for you,\n",
      "please provide us feedback at https://github.com/pandas-dev/pandas/issues/54466\n",
      "        \n",
      "  import pandas as pd\n"
     ]
    }
   ],
   "source": [
    "import pandas as pd\n",
    "import numpy as np\n",
    "import glob\n",
    "import os\n",
    "import math\n",
    "import string\n",
    "import scrapy\n",
    "import matplotlib.pyplot as plt\n",
    "from collections import Counter"
   ]
  },
  {
   "cell_type": "code",
   "execution_count": 48,
   "metadata": {},
   "outputs": [],
   "source": [
    "#1 Funzione\n",
    "def maxtre(a, b, c):\n",
    "    highest=max([a,b,c])\n",
    "    return(highest)"
   ]
  },
  {
   "cell_type": "code",
   "execution_count": 49,
   "metadata": {},
   "outputs": [
    {
     "data": {
      "text/plain": [
       "45"
      ]
     },
     "execution_count": 49,
     "metadata": {},
     "output_type": "execute_result"
    }
   ],
   "source": [
    "#1 Esempio\n",
    "maxtre(16,8,45)"
   ]
  },
  {
   "cell_type": "code",
   "execution_count": 50,
   "metadata": {},
   "outputs": [],
   "source": [
    "#2 Funzione\n",
    "def celsiustofarenheit(x):\n",
    "    y=x*(9/5) + 32\n",
    "    return(y)\n",
    "\n"
   ]
  },
  {
   "cell_type": "code",
   "execution_count": 51,
   "metadata": {},
   "outputs": [
    {
     "data": {
      "text/plain": [
       "68.0"
      ]
     },
     "execution_count": 51,
     "metadata": {},
     "output_type": "execute_result"
    }
   ],
   "source": [
    "#2 Esempio\n",
    "celsiustofarenheit(20)"
   ]
  },
  {
   "cell_type": "code",
   "execution_count": null,
   "metadata": {},
   "outputs": [],
   "source": []
  },
  {
   "cell_type": "code",
   "execution_count": 52,
   "metadata": {},
   "outputs": [],
   "source": [
    "#3 Funzione\n",
    "def find_unique_elements(input_list):\n",
    "    # Crea dizionario\n",
    "    count_dict = {}\n",
    "    \n",
    "    # Conta gli elementi nella lista\n",
    "    for element in input_list:\n",
    "        count_dict[element] = count_dict.get(element, 0) + 1\n",
    "    \n",
    "    unique_elements = [element for element, count in count_dict.items() if count == 1]\n",
    "    \n",
    "    return unique_elements\n",
    "\n"
   ]
  },
  {
   "cell_type": "code",
   "execution_count": 53,
   "metadata": {},
   "outputs": [
    {
     "name": "stdout",
     "output_type": "stream",
     "text": [
      "[1, 2, 3, 4, 6, 7, 9]\n"
     ]
    }
   ],
   "source": [
    "#3 Esempio\n",
    "my_list = [1, 2, 3, 4, 5, 5, 6, 7, 8, 8, 9]\n",
    "print(find_unique_elements(my_list))  "
   ]
  },
  {
   "cell_type": "code",
   "execution_count": 54,
   "metadata": {},
   "outputs": [],
   "source": [
    "# 4 Funziona\n",
    "def palindromo(x):\n",
    "    y=x[::-1]\n",
    "    if (y==x):\n",
    "        print(\"Questo è un palindromo\")\n",
    "    else:\n",
    "        print(\"Non è un palindromo\")\n"
   ]
  },
  {
   "cell_type": "code",
   "execution_count": 55,
   "metadata": {},
   "outputs": [
    {
     "name": "stdout",
     "output_type": "stream",
     "text": [
      "Non è un palindromo\n"
     ]
    }
   ],
   "source": [
    "#4 Esempio 1\n",
    "palindromo('ciao')\n"
   ]
  },
  {
   "cell_type": "code",
   "execution_count": 56,
   "metadata": {},
   "outputs": [
    {
     "name": "stdout",
     "output_type": "stream",
     "text": [
      "Questo è un palindromo\n"
     ]
    }
   ],
   "source": [
    "#4 Esempio 2\n",
    "palindromo('anna')"
   ]
  },
  {
   "cell_type": "code",
   "execution_count": 57,
   "metadata": {},
   "outputs": [],
   "source": [
    "#5 Funzione\n",
    "def fattoriale(n):\n",
    "    fact=1\n",
    "    if n == 0:\n",
    "        return 1\n",
    "    else:\n",
    "        for i in range(1, n+1):\n",
    "            fact = fact * i\n",
    "        return fact"
   ]
  },
  {
   "cell_type": "code",
   "execution_count": 58,
   "metadata": {},
   "outputs": [
    {
     "data": {
      "text/plain": [
       "24"
      ]
     },
     "execution_count": 58,
     "metadata": {},
     "output_type": "execute_result"
    }
   ],
   "source": [
    "#5 Esempio\n",
    "fattoriale(4)"
   ]
  },
  {
   "cell_type": "code",
   "execution_count": 59,
   "metadata": {},
   "outputs": [
    {
     "name": "stdout",
     "output_type": "stream",
     "text": [
      "{'a': 1, 'b': 2, 'c': 3, 'd': 4}\n"
     ]
    }
   ],
   "source": [
    "#6 Funzione e Esempio\n",
    "def create_dictionary(keys, values):\n",
    "    return dict(zip(keys, values))\n",
    "\n",
    "# le liste\n",
    "keys_list = ['a', 'b', 'c', 'd']\n",
    "values_list = [1, 2, 3, 4]\n",
    "\n",
    "# Crea dizionario\n",
    "result_dict = create_dictionary(keys_list, values_list)\n",
    "print(result_dict)"
   ]
  },
  {
   "cell_type": "code",
   "execution_count": 60,
   "metadata": {},
   "outputs": [],
   "source": [
    "#7 Funzione\n",
    "def uniscelistetuple(list1, list2):\n",
    "    # Use zip to combine elements from both lists into tuples\n",
    "    tuples = list(zip(list1, list2))\n",
    "    return tuples\n",
    "\n"
   ]
  },
  {
   "cell_type": "code",
   "execution_count": 61,
   "metadata": {},
   "outputs": [
    {
     "name": "stdout",
     "output_type": "stream",
     "text": [
      "[('a', 1), ('b', 2), ('c', 3)]\n"
     ]
    }
   ],
   "source": [
    "# 7 Esempio\n",
    "list1 = ['a', 'b', 'c']\n",
    "list2 = [1, 2, 3]\n",
    "\n",
    "merged_list = uniscelistetuple(list1, list2)\n",
    "print(merged_list)"
   ]
  },
  {
   "cell_type": "code",
   "execution_count": 62,
   "metadata": {},
   "outputs": [],
   "source": [
    "#8 Funzione\n",
    "def ordinasecondoelemento(list_of_tuples):\n",
    "    # Sort the list of tuples based on the second element of each tuple\n",
    "    sorted_list = sorted(list_of_tuples, key=lambda x: x[1])\n",
    "    return sorted_list\n"
   ]
  },
  {
   "cell_type": "code",
   "execution_count": 63,
   "metadata": {},
   "outputs": [
    {
     "name": "stdout",
     "output_type": "stream",
     "text": [
      "[('b', 1), ('c', 2), ('a', 3)]\n"
     ]
    }
   ],
   "source": [
    "# 8 Esempio:\n",
    "lista_tuples = [('a', 3), ('b', 1), ('c', 2)]\n",
    "\n",
    "ordina_tuples = ordinasecondoelemento(lista_tuples)\n",
    "print(ordina_tuples)"
   ]
  },
  {
   "cell_type": "code",
   "execution_count": 64,
   "metadata": {},
   "outputs": [
    {
     "name": "stdout",
     "output_type": "stream",
     "text": [
      "[1, 4, 9, 16, 25, 36, 49, 64, 81, 100]\n"
     ]
    }
   ],
   "source": [
    "# 9 Esercizio\n",
    "quadrati_dei_primi_10_numeri  = [x**2 for x in range(1, 11)]\n",
    "\n",
    "print(quadrati_dei_primi_10_numeri)"
   ]
  },
  {
   "cell_type": "code",
   "execution_count": 65,
   "metadata": {},
   "outputs": [
    {
     "name": "stdout",
     "output_type": "stream",
     "text": [
      "[2, 4, 6, 8, 10]\n"
     ]
    }
   ],
   "source": [
    "# 10 Esercizio\n",
    "\n",
    "lista = [1, 2, 3, 4, 5, 6, 7, 8, 9, 10]\n",
    "\n",
    "numeri_pari = [x for x in lista if x % 2 == 0]\n",
    "\n",
    "print(numeri_pari)"
   ]
  },
  {
   "cell_type": "code",
   "execution_count": 66,
   "metadata": {},
   "outputs": [
    {
     "name": "stdout",
     "output_type": "stream",
     "text": [
      "['SI', 'NO', 'CIAO']\n"
     ]
    }
   ],
   "source": [
    "#11 Esercizio \n",
    "\n",
    "lista_di_stringhe = [\"si\", \"no\", \"ciao\"]\n",
    "\n",
    "stringhe_maiuscole = [stringa.upper() for stringa in lista_di_stringhe]\n",
    "\n",
    "print(stringhe_maiuscole)"
   ]
  },
  {
   "cell_type": "code",
   "execution_count": 67,
   "metadata": {},
   "outputs": [
    {
     "name": "stdout",
     "output_type": "stream",
     "text": [
      "[(1, 1), (2, 4), (3, 9), (4, 16), (5, 25), (6, 36), (7, 49), (8, 64), (9, 81), (10, 100)]\n"
     ]
    }
   ],
   "source": [
    "# 12 Esercizio\n",
    "#massimo numero = 10\n",
    "n = 10  \n",
    "\n",
    "lista_di_tuple = [(x, x**2) for x in range(1, n+1)]\n",
    "\n",
    "print(lista_di_tuple)"
   ]
  },
  {
   "cell_type": "code",
   "execution_count": 68,
   "metadata": {},
   "outputs": [
    {
     "name": "stdout",
     "output_type": "stream",
     "text": [
      "['aereo', 'elegante']\n"
     ]
    }
   ],
   "source": [
    "#13 Esercizio\n",
    "\n",
    "lista_di_parole = [\"sinceramente\", \"terribile\", \"cantanti\", \"festival\", \"aereo\", \"elegante\"]\n",
    " \n",
    "parole_con_vocale_iniziale = [parola for parola in lista_di_parole if parola[0].lower() in 'aeiou']\n",
    "\n",
    "print(parole_con_vocale_iniziale)"
   ]
  },
  {
   "cell_type": "code",
   "execution_count": 69,
   "metadata": {},
   "outputs": [
    {
     "name": "stdout",
     "output_type": "stream",
     "text": [
      "[10, 14, 1, 16]\n"
     ]
    }
   ],
   "source": [
    "#14 Esercizio\n",
    "\n",
    "lista_numeri = [10, -35, 14, -3, 1, -89, 16, -2]\n",
    "\n",
    "valori_positivi = [numero for numero in lista_numeri if numero >= 0]\n",
    "\n",
    "print(valori_positivi)\n"
   ]
  },
  {
   "cell_type": "code",
   "execution_count": 70,
   "metadata": {},
   "outputs": [
    {
     "name": "stdout",
     "output_type": "stream",
     "text": [
      "['a', 'b', 'c', 'd', 'e', 'f', 'g', 'h', 'i', 'j', 'k', 'l', 'm', 'n', 'o', 'p', 'q', 'r', 's', 't', 'u', 'v', 'w', 'x', 'y', 'z']\n"
     ]
    }
   ],
   "source": [
    "#15 Esercizio\n",
    "\n",
    "alfabeto = [lettera for lettera in string.ascii_lowercase]\n",
    "\n",
    "print(alfabeto)"
   ]
  },
  {
   "cell_type": "code",
   "execution_count": 71,
   "metadata": {},
   "outputs": [],
   "source": [
    "#16 Esercizio\n",
    "mio_array=np.array([[1,3,2],[5,4,3],[5,5,1]])"
   ]
  },
  {
   "cell_type": "code",
   "execution_count": 72,
   "metadata": {},
   "outputs": [
    {
     "data": {
      "text/plain": [
       "29"
      ]
     },
     "execution_count": 72,
     "metadata": {},
     "output_type": "execute_result"
    }
   ],
   "source": [
    "#17 Esercizio\n",
    "np.sum(mio_array)"
   ]
  },
  {
   "cell_type": "code",
   "execution_count": 73,
   "metadata": {},
   "outputs": [
    {
     "name": "stdout",
     "output_type": "stream",
     "text": [
      "La media è  3.4\n",
      "La mediana è  3.0\n",
      "La varianza è  4.24\n"
     ]
    }
   ],
   "source": [
    "#18 Esercizio\n",
    "array_nuovo=np.array([7,3,4,1,2])\n",
    "\n",
    "print(\"La media è \", np.mean(array_nuovo))\n",
    "\n",
    "print(\"La mediana è \", np.median(array_nuovo))\n",
    "\n",
    "print(\"La varianza è \", np.var(array_nuovo))\n",
    "\n",
    "#array_nuovo.median()"
   ]
  },
  {
   "cell_type": "code",
   "execution_count": 74,
   "metadata": {},
   "outputs": [
    {
     "name": "stdout",
     "output_type": "stream",
     "text": [
      "[ 7  3 12 10  4]\n"
     ]
    }
   ],
   "source": [
    "#19 Esercizio\n",
    "array_uno=np.array([7,3,4,1,2])\n",
    "array_due=np.array([1,1,3,10,2])\n",
    "\n",
    "print(array_uno*array_due)"
   ]
  },
  {
   "cell_type": "code",
   "execution_count": 75,
   "metadata": {},
   "outputs": [
    {
     "name": "stdout",
     "output_type": "stream",
     "text": [
      "[1 2 3 4 5]\n"
     ]
    }
   ],
   "source": [
    "#20 Esercizio\n",
    "\n",
    "array_numpy = np.array([3, 1, 5, 2, 4])\n",
    "\n",
    "# Ordina l'array in modo ascendente\n",
    "array_ordinato = np.sort(array_numpy)\n",
    "\n",
    "print(array_ordinato)"
   ]
  },
  {
   "cell_type": "code",
   "execution_count": 76,
   "metadata": {},
   "outputs": [
    {
     "name": "stdout",
     "output_type": "stream",
     "text": [
      "       Nome  Eta    Città\n",
      "0    Thomas   25   Foggia\n",
      "1   Roberta   29  Bologna\n",
      "2  Raffaele   22   Napoli\n",
      "3  Federico   23   Lucera\n",
      "4    Andrea   24  Palermo\n"
     ]
    }
   ],
   "source": [
    "#21 Esercizio\n",
    "\n",
    "data = {\n",
    "    'Nome': ['Thomas', 'Roberta', 'Raffaele', 'Federico', 'Andrea'],\n",
    "    'Eta': [25, 29, 22, 23, 24],\n",
    "    'Città': ['Foggia', 'Bologna', 'Napoli', 'Lucera', 'Palermo']\n",
    "}\n",
    "\n",
    "# Creazione del DataFrame\n",
    "df = pd.DataFrame(data)\n",
    "\n",
    "# Stampare il DataFrame\n",
    "print(df)\n"
   ]
  },
  {
   "cell_type": "code",
   "execution_count": 77,
   "metadata": {},
   "outputs": [
    {
     "data": {
      "text/html": [
       "<div>\n",
       "<style scoped>\n",
       "    .dataframe tbody tr th:only-of-type {\n",
       "        vertical-align: middle;\n",
       "    }\n",
       "\n",
       "    .dataframe tbody tr th {\n",
       "        vertical-align: top;\n",
       "    }\n",
       "\n",
       "    .dataframe thead th {\n",
       "        text-align: right;\n",
       "    }\n",
       "</style>\n",
       "<table border=\"1\" class=\"dataframe\">\n",
       "  <thead>\n",
       "    <tr style=\"text-align: right;\">\n",
       "      <th></th>\n",
       "      <th>SNo</th>\n",
       "      <th>Date</th>\n",
       "      <th>Country</th>\n",
       "      <th>RegionCode</th>\n",
       "      <th>RegionName</th>\n",
       "      <th>Latitude</th>\n",
       "      <th>Longitude</th>\n",
       "      <th>HospitalizedPatients</th>\n",
       "      <th>IntensiveCarePatients</th>\n",
       "      <th>TotalHospitalizedPatients</th>\n",
       "      <th>HomeConfinement</th>\n",
       "      <th>CurrentPositiveCases</th>\n",
       "      <th>NewPositiveCases</th>\n",
       "      <th>Recovered</th>\n",
       "      <th>Deaths</th>\n",
       "      <th>TotalPositiveCases</th>\n",
       "      <th>TestsPerformed</th>\n",
       "    </tr>\n",
       "  </thead>\n",
       "  <tbody>\n",
       "    <tr>\n",
       "      <th>0</th>\n",
       "      <td>0</td>\n",
       "      <td>2020-02-24T18:00:00</td>\n",
       "      <td>ITA</td>\n",
       "      <td>13</td>\n",
       "      <td>Abruzzo</td>\n",
       "      <td>42.351222</td>\n",
       "      <td>13.398438</td>\n",
       "      <td>0</td>\n",
       "      <td>0</td>\n",
       "      <td>0</td>\n",
       "      <td>0</td>\n",
       "      <td>0</td>\n",
       "      <td>0</td>\n",
       "      <td>0</td>\n",
       "      <td>0</td>\n",
       "      <td>0</td>\n",
       "      <td>NaN</td>\n",
       "    </tr>\n",
       "    <tr>\n",
       "      <th>1</th>\n",
       "      <td>1</td>\n",
       "      <td>2020-02-24T18:00:00</td>\n",
       "      <td>ITA</td>\n",
       "      <td>17</td>\n",
       "      <td>Basilicata</td>\n",
       "      <td>40.639471</td>\n",
       "      <td>15.805148</td>\n",
       "      <td>0</td>\n",
       "      <td>0</td>\n",
       "      <td>0</td>\n",
       "      <td>0</td>\n",
       "      <td>0</td>\n",
       "      <td>0</td>\n",
       "      <td>0</td>\n",
       "      <td>0</td>\n",
       "      <td>0</td>\n",
       "      <td>NaN</td>\n",
       "    </tr>\n",
       "    <tr>\n",
       "      <th>2</th>\n",
       "      <td>2</td>\n",
       "      <td>2020-02-24T18:00:00</td>\n",
       "      <td>ITA</td>\n",
       "      <td>18</td>\n",
       "      <td>Calabria</td>\n",
       "      <td>38.905976</td>\n",
       "      <td>16.594402</td>\n",
       "      <td>0</td>\n",
       "      <td>0</td>\n",
       "      <td>0</td>\n",
       "      <td>0</td>\n",
       "      <td>0</td>\n",
       "      <td>0</td>\n",
       "      <td>0</td>\n",
       "      <td>0</td>\n",
       "      <td>0</td>\n",
       "      <td>NaN</td>\n",
       "    </tr>\n",
       "    <tr>\n",
       "      <th>3</th>\n",
       "      <td>3</td>\n",
       "      <td>2020-02-24T18:00:00</td>\n",
       "      <td>ITA</td>\n",
       "      <td>15</td>\n",
       "      <td>Campania</td>\n",
       "      <td>40.839566</td>\n",
       "      <td>14.250850</td>\n",
       "      <td>0</td>\n",
       "      <td>0</td>\n",
       "      <td>0</td>\n",
       "      <td>0</td>\n",
       "      <td>0</td>\n",
       "      <td>0</td>\n",
       "      <td>0</td>\n",
       "      <td>0</td>\n",
       "      <td>0</td>\n",
       "      <td>NaN</td>\n",
       "    </tr>\n",
       "    <tr>\n",
       "      <th>4</th>\n",
       "      <td>4</td>\n",
       "      <td>2020-02-24T18:00:00</td>\n",
       "      <td>ITA</td>\n",
       "      <td>8</td>\n",
       "      <td>Emilia-Romagna</td>\n",
       "      <td>44.494367</td>\n",
       "      <td>11.341721</td>\n",
       "      <td>10</td>\n",
       "      <td>2</td>\n",
       "      <td>12</td>\n",
       "      <td>6</td>\n",
       "      <td>18</td>\n",
       "      <td>18</td>\n",
       "      <td>0</td>\n",
       "      <td>0</td>\n",
       "      <td>18</td>\n",
       "      <td>NaN</td>\n",
       "    </tr>\n",
       "    <tr>\n",
       "      <th>...</th>\n",
       "      <td>...</td>\n",
       "      <td>...</td>\n",
       "      <td>...</td>\n",
       "      <td>...</td>\n",
       "      <td>...</td>\n",
       "      <td>...</td>\n",
       "      <td>...</td>\n",
       "      <td>...</td>\n",
       "      <td>...</td>\n",
       "      <td>...</td>\n",
       "      <td>...</td>\n",
       "      <td>...</td>\n",
       "      <td>...</td>\n",
       "      <td>...</td>\n",
       "      <td>...</td>\n",
       "      <td>...</td>\n",
       "      <td>...</td>\n",
       "    </tr>\n",
       "    <tr>\n",
       "      <th>6022</th>\n",
       "      <td>6022</td>\n",
       "      <td>2020-12-06T17:00:00</td>\n",
       "      <td>ITA</td>\n",
       "      <td>19</td>\n",
       "      <td>Sicilia</td>\n",
       "      <td>38.115697</td>\n",
       "      <td>13.362357</td>\n",
       "      <td>1367</td>\n",
       "      <td>213</td>\n",
       "      <td>1580</td>\n",
       "      <td>38166</td>\n",
       "      <td>39746</td>\n",
       "      <td>1022</td>\n",
       "      <td>29984</td>\n",
       "      <td>1759</td>\n",
       "      <td>71489</td>\n",
       "      <td>692062.0</td>\n",
       "    </tr>\n",
       "    <tr>\n",
       "      <th>6023</th>\n",
       "      <td>6023</td>\n",
       "      <td>2020-12-06T17:00:00</td>\n",
       "      <td>ITA</td>\n",
       "      <td>9</td>\n",
       "      <td>Toscana</td>\n",
       "      <td>43.769231</td>\n",
       "      <td>11.255889</td>\n",
       "      <td>1360</td>\n",
       "      <td>252</td>\n",
       "      <td>1612</td>\n",
       "      <td>27587</td>\n",
       "      <td>29199</td>\n",
       "      <td>753</td>\n",
       "      <td>76331</td>\n",
       "      <td>2867</td>\n",
       "      <td>108397</td>\n",
       "      <td>983103.0</td>\n",
       "    </tr>\n",
       "    <tr>\n",
       "      <th>6024</th>\n",
       "      <td>6024</td>\n",
       "      <td>2020-12-06T17:00:00</td>\n",
       "      <td>ITA</td>\n",
       "      <td>10</td>\n",
       "      <td>Umbria</td>\n",
       "      <td>43.106758</td>\n",
       "      <td>12.388247</td>\n",
       "      <td>332</td>\n",
       "      <td>60</td>\n",
       "      <td>392</td>\n",
       "      <td>5673</td>\n",
       "      <td>6065</td>\n",
       "      <td>234</td>\n",
       "      <td>18619</td>\n",
       "      <td>460</td>\n",
       "      <td>25144</td>\n",
       "      <td>231538.0</td>\n",
       "    </tr>\n",
       "    <tr>\n",
       "      <th>6025</th>\n",
       "      <td>6025</td>\n",
       "      <td>2020-12-06T17:00:00</td>\n",
       "      <td>ITA</td>\n",
       "      <td>2</td>\n",
       "      <td>Valle d'Aosta</td>\n",
       "      <td>45.737503</td>\n",
       "      <td>7.320149</td>\n",
       "      <td>102</td>\n",
       "      <td>8</td>\n",
       "      <td>110</td>\n",
       "      <td>877</td>\n",
       "      <td>987</td>\n",
       "      <td>34</td>\n",
       "      <td>5406</td>\n",
       "      <td>333</td>\n",
       "      <td>6726</td>\n",
       "      <td>34644.0</td>\n",
       "    </tr>\n",
       "    <tr>\n",
       "      <th>6026</th>\n",
       "      <td>6026</td>\n",
       "      <td>2020-12-06T17:00:00</td>\n",
       "      <td>ITA</td>\n",
       "      <td>5</td>\n",
       "      <td>Veneto</td>\n",
       "      <td>45.434905</td>\n",
       "      <td>12.338452</td>\n",
       "      <td>2508</td>\n",
       "      <td>308</td>\n",
       "      <td>2816</td>\n",
       "      <td>73988</td>\n",
       "      <td>76804</td>\n",
       "      <td>3444</td>\n",
       "      <td>84235</td>\n",
       "      <td>4210</td>\n",
       "      <td>165249</td>\n",
       "      <td>1090932.0</td>\n",
       "    </tr>\n",
       "  </tbody>\n",
       "</table>\n",
       "<p>6027 rows × 17 columns</p>\n",
       "</div>"
      ],
      "text/plain": [
       "       SNo                 Date Country  RegionCode      RegionName  \\\n",
       "0        0  2020-02-24T18:00:00     ITA          13         Abruzzo   \n",
       "1        1  2020-02-24T18:00:00     ITA          17      Basilicata   \n",
       "2        2  2020-02-24T18:00:00     ITA          18        Calabria   \n",
       "3        3  2020-02-24T18:00:00     ITA          15        Campania   \n",
       "4        4  2020-02-24T18:00:00     ITA           8  Emilia-Romagna   \n",
       "...    ...                  ...     ...         ...             ...   \n",
       "6022  6022  2020-12-06T17:00:00     ITA          19         Sicilia   \n",
       "6023  6023  2020-12-06T17:00:00     ITA           9         Toscana   \n",
       "6024  6024  2020-12-06T17:00:00     ITA          10          Umbria   \n",
       "6025  6025  2020-12-06T17:00:00     ITA           2   Valle d'Aosta   \n",
       "6026  6026  2020-12-06T17:00:00     ITA           5          Veneto   \n",
       "\n",
       "       Latitude  Longitude  HospitalizedPatients  IntensiveCarePatients  \\\n",
       "0     42.351222  13.398438                     0                      0   \n",
       "1     40.639471  15.805148                     0                      0   \n",
       "2     38.905976  16.594402                     0                      0   \n",
       "3     40.839566  14.250850                     0                      0   \n",
       "4     44.494367  11.341721                    10                      2   \n",
       "...         ...        ...                   ...                    ...   \n",
       "6022  38.115697  13.362357                  1367                    213   \n",
       "6023  43.769231  11.255889                  1360                    252   \n",
       "6024  43.106758  12.388247                   332                     60   \n",
       "6025  45.737503   7.320149                   102                      8   \n",
       "6026  45.434905  12.338452                  2508                    308   \n",
       "\n",
       "      TotalHospitalizedPatients  HomeConfinement  CurrentPositiveCases  \\\n",
       "0                             0                0                     0   \n",
       "1                             0                0                     0   \n",
       "2                             0                0                     0   \n",
       "3                             0                0                     0   \n",
       "4                            12                6                    18   \n",
       "...                         ...              ...                   ...   \n",
       "6022                       1580            38166                 39746   \n",
       "6023                       1612            27587                 29199   \n",
       "6024                        392             5673                  6065   \n",
       "6025                        110              877                   987   \n",
       "6026                       2816            73988                 76804   \n",
       "\n",
       "      NewPositiveCases  Recovered  Deaths  TotalPositiveCases  TestsPerformed  \n",
       "0                    0          0       0                   0             NaN  \n",
       "1                    0          0       0                   0             NaN  \n",
       "2                    0          0       0                   0             NaN  \n",
       "3                    0          0       0                   0             NaN  \n",
       "4                   18          0       0                  18             NaN  \n",
       "...                ...        ...     ...                 ...             ...  \n",
       "6022              1022      29984    1759               71489        692062.0  \n",
       "6023               753      76331    2867              108397        983103.0  \n",
       "6024               234      18619     460               25144        231538.0  \n",
       "6025                34       5406     333                6726         34644.0  \n",
       "6026              3444      84235    4210              165249       1090932.0  \n",
       "\n",
       "[6027 rows x 17 columns]"
      ]
     },
     "execution_count": 77,
     "metadata": {},
     "output_type": "execute_result"
    }
   ],
   "source": [
    "#22 Esercizio\n",
    "covidregioni=pd.read_csv('covid19_italy_region _python.csv')\n",
    "\n",
    "covidregioni"
   ]
  },
  {
   "cell_type": "code",
   "execution_count": 78,
   "metadata": {},
   "outputs": [
    {
     "name": "stdout",
     "output_type": "stream",
     "text": [
      "0          0\n",
      "1          0\n",
      "2          0\n",
      "3          0\n",
      "4         10\n",
      "        ... \n",
      "6022    1367\n",
      "6023    1360\n",
      "6024     332\n",
      "6025     102\n",
      "6026    2508\n",
      "Name: HospitalizedPatients, Length: 6027, dtype: int64\n"
     ]
    }
   ],
   "source": [
    "#23 Esercizio\n",
    "#Seleziona HospitalizedPatients\n",
    "colonna_selezionata=covidregioni['HospitalizedPatients']\n",
    "\n",
    "print(colonna_selezionata)"
   ]
  },
  {
   "cell_type": "code",
   "execution_count": 79,
   "metadata": {},
   "outputs": [
    {
     "name": "stdout",
     "output_type": "stream",
     "text": [
      "       SNo                 Date Country  RegionCode RegionName   Latitude  \\\n",
      "18      18  2020-02-24T18:00:00     ITA          10     Umbria  43.106758   \n",
      "39      39  2020-02-25T18:00:00     ITA          10     Umbria  43.106758   \n",
      "60      60  2020-02-26T18:00:00     ITA          10     Umbria  43.106758   \n",
      "81      81  2020-02-27T18:00:00     ITA          10     Umbria  43.106758   \n",
      "102    102  2020-02-28T18:00:00     ITA          10     Umbria  43.106758   \n",
      "...    ...                  ...     ...         ...        ...        ...   \n",
      "5940  5940  2020-12-02T17:00:00     ITA          10     Umbria  43.106758   \n",
      "5961  5961  2020-12-03T17:00:00     ITA          10     Umbria  43.106758   \n",
      "5982  5982  2020-12-04T17:00:00     ITA          10     Umbria  43.106758   \n",
      "6003  6003  2020-12-05T17:00:00     ITA          10     Umbria  43.106758   \n",
      "6024  6024  2020-12-06T17:00:00     ITA          10     Umbria  43.106758   \n",
      "\n",
      "      Longitude  HospitalizedPatients  IntensiveCarePatients  \\\n",
      "18    12.388247                     0                      0   \n",
      "39    12.388247                     0                      0   \n",
      "60    12.388247                     0                      0   \n",
      "81    12.388247                     0                      0   \n",
      "102   12.388247                     0                      0   \n",
      "...         ...                   ...                    ...   \n",
      "5940  12.388247                   342                     62   \n",
      "5961  12.388247                   344                     54   \n",
      "5982  12.388247                   327                     57   \n",
      "6003  12.388247                   330                     61   \n",
      "6024  12.388247                   332                     60   \n",
      "\n",
      "      TotalHospitalizedPatients  HomeConfinement  CurrentPositiveCases  \\\n",
      "18                            0                0                     0   \n",
      "39                            0                0                     0   \n",
      "60                            0                0                     0   \n",
      "81                            0                0                     0   \n",
      "102                           0                0                     0   \n",
      "...                         ...              ...                   ...   \n",
      "5940                        404             6679                  7083   \n",
      "5961                        398             6364                  6762   \n",
      "5982                        384             6039                  6423   \n",
      "6003                        391             5758                  6149   \n",
      "6024                        392             5673                  6065   \n",
      "\n",
      "      NewPositiveCases  Recovered  Deaths  TotalPositiveCases  TestsPerformed  \n",
      "18                   0          0       0                   0             NaN  \n",
      "39                   0          0       0                   0             NaN  \n",
      "60                   0          0       0                   0             NaN  \n",
      "81                   0          0       0                   0             NaN  \n",
      "102                  0          0       0                   0             NaN  \n",
      "...                ...        ...     ...                 ...             ...  \n",
      "5940               278      16722     425               24230        227246.0  \n",
      "5961               286      17314     440               24516        228438.0  \n",
      "5982               168      17817     444               24684        229396.0  \n",
      "6003               226      18310     451               24910        230476.0  \n",
      "6024               234      18619     460               25144        231538.0  \n",
      "\n",
      "[287 rows x 17 columns]\n"
     ]
    }
   ],
   "source": [
    "#24 Esercizio\n",
    "#Seleziona tutti i dati per la regione Umbria\n",
    "Umbria=covidregioni[covidregioni[\"RegionName\"]==\"Umbria\"]\n",
    "\n",
    "print(Umbria)"
   ]
  },
  {
   "cell_type": "code",
   "execution_count": 80,
   "metadata": {},
   "outputs": [
    {
     "name": "stdout",
     "output_type": "stream",
     "text": [
      "       SNo  RegionCode   Latitude  Longitude  HospitalizedPatients  \\\n",
      "0        0          13  42.351222  13.398438                     0   \n",
      "1        1          17  40.639471  15.805148                     0   \n",
      "2        2          18  38.905976  16.594402                     0   \n",
      "3        3          15  40.839566  14.250850                     0   \n",
      "4        4           8  44.494367  11.341721                    10   \n",
      "...    ...         ...        ...        ...                   ...   \n",
      "6022  6022          19  38.115697  13.362357                  1367   \n",
      "6023  6023           9  43.769231  11.255889                  1360   \n",
      "6024  6024          10  43.106758  12.388247                   332   \n",
      "6025  6025           2  45.737503   7.320149                   102   \n",
      "6026  6026           5  45.434905  12.338452                  2508   \n",
      "\n",
      "      IntensiveCarePatients  TotalHospitalizedPatients  HomeConfinement  \\\n",
      "0                         0                          0                0   \n",
      "1                         0                          0                0   \n",
      "2                         0                          0                0   \n",
      "3                         0                          0                0   \n",
      "4                         2                         12                6   \n",
      "...                     ...                        ...              ...   \n",
      "6022                    213                       1580            38166   \n",
      "6023                    252                       1612            27587   \n",
      "6024                     60                        392             5673   \n",
      "6025                      8                        110              877   \n",
      "6026                    308                       2816            73988   \n",
      "\n",
      "      CurrentPositiveCases  NewPositiveCases  Recovered  Deaths  \\\n",
      "0                        0                 0          0       0   \n",
      "1                        0                 0          0       0   \n",
      "2                        0                 0          0       0   \n",
      "3                        0                 0          0       0   \n",
      "4                       18                18          0       0   \n",
      "...                    ...               ...        ...     ...   \n",
      "6022                 39746              1022      29984    1759   \n",
      "6023                 29199               753      76331    2867   \n",
      "6024                  6065               234      18619     460   \n",
      "6025                   987                34       5406     333   \n",
      "6026                 76804              3444      84235    4210   \n",
      "\n",
      "      TotalPositiveCases  TestsPerformed  \n",
      "0                      0             NaN  \n",
      "1                      0             NaN  \n",
      "2                      0             NaN  \n",
      "3                      0             NaN  \n",
      "4                     18             NaN  \n",
      "...                  ...             ...  \n",
      "6022               71489        692062.0  \n",
      "6023              108397        983103.0  \n",
      "6024               25144        231538.0  \n",
      "6025                6726         34644.0  \n",
      "6026              165249       1090932.0  \n",
      "\n",
      "[6027 rows x 14 columns]\n"
     ]
    }
   ],
   "source": [
    "#25 Esercizio\n",
    "#Seleziona colonne numeriche\n",
    "colonne_numeriche = covidregioni.select_dtypes(include='number')\n",
    "\n",
    "print(colonne_numeriche)\n"
   ]
  },
  {
   "cell_type": "code",
   "execution_count": 81,
   "metadata": {},
   "outputs": [
    {
     "name": "stdout",
     "output_type": "stream",
     "text": [
      "SNo                            3013.000000\n",
      "RegionCode                       11.857143\n",
      "Latitude                         43.046293\n",
      "Longitude                        12.225955\n",
      "HospitalizedPatients            509.093579\n",
      "IntensiveCarePatients            55.892318\n",
      "TotalHospitalizedPatients       564.985897\n",
      "HomeConfinement                5722.911399\n",
      "CurrentPositiveCases           6287.897296\n",
      "NewPositiveCases                286.885847\n",
      "Recovered                      9337.852829\n",
      "Deaths                         1474.370665\n",
      "TotalPositiveCases            17100.123610\n",
      "TestsPerformed               260081.032430\n",
      "dtype: float64\n"
     ]
    }
   ],
   "source": [
    "#Calcola le medie delle colonne numeriche\n",
    "\n",
    "medie_colonne = colonne_numeriche.mean()\n",
    "\n",
    "print(medie_colonne)"
   ]
  },
  {
   "cell_type": "code",
   "execution_count": 82,
   "metadata": {},
   "outputs": [
    {
     "data": {
      "image/png": "[encoded data removed]",
      "text/plain": [
       "<Figure size 640x480 with 1 Axes>"
      ]
     },
     "metadata": {},
     "output_type": "display_data"
    }
   ],
   "source": [
    "#26 Esercizio\n",
    "# Creare una serie temporale di esempio\n",
    "data = {\n",
    "    'data': pd.date_range('2024-02-01', periods=10),\n",
    "    'temperatura': [5, 7, 3, 8, 12, 17, 12, 5, 8, 10]\n",
    "}\n",
    "df = pd.DataFrame(data)\n",
    "\n",
    "# Impostare la colonna 'data' come indice\n",
    "df.set_index('data', inplace=True)\n",
    "\n",
    "# Creare il grafico a linee\n",
    "plt.plot(df.index, df['temperatura'], marker='o', linestyle='-')\n",
    "\n",
    "# Aggiungere etichette agli assi e al titolo\n",
    "plt.xlabel('Data')\n",
    "plt.ylabel('Temperatura')\n",
    "plt.title('Temperature ad inizio Febbraio 2024')\n",
    "\n",
    "# Mostrare il grafico\n",
    "plt.xticks(rotation=45)  # Ruotare le etichette dell'asse x per una migliore leggibilità\n",
    "plt.show()\n"
   ]
  },
  {
   "cell_type": "code",
   "execution_count": 83,
   "metadata": {},
   "outputs": [
    {
     "data": {
      "image/png": "[encoded data removed]",
      "text/plain": [
       "<Figure size 640x480 with 1 Axes>"
      ]
     },
     "metadata": {},
     "output_type": "display_data"
    }
   ],
   "source": [
    "#27 Esercizio\n",
    "x=[6,3,7,5,6,5,1,9,4,2,4,5,15,4,2,3,9,9,7,0,1]\n",
    "#plt.hist(x)\n",
    "#bins = np.linspace(0, 2, 40)\n",
    "plt.hist(x, alpha=0.5, histtype='bar', ec='black')\n",
    "plt.xlabel(\"Number\")\n",
    "plt.ylabel(\"Count\")\n",
    "plt.show()"
   ]
  },
  {
   "cell_type": "code",
   "execution_count": 84,
   "metadata": {},
   "outputs": [
    {
     "data": {
      "image/png": "[encoded data removed]",
      "text/plain": [
       "<Figure size 640x480 with 1 Axes>"
      ]
     },
     "metadata": {},
     "output_type": "display_data"
    }
   ],
   "source": [
    "#28 Esercizio\n",
    "data = {\n",
    "    'Categoria': ['A', 'B', 'C', 'D', 'E'],\n",
    "    'Valore': [6, 13, 15, 32, 29]\n",
    "}\n",
    "df = pd.DataFrame(data)\n",
    "\n",
    "# Creare il grafico a barre\n",
    "plt.bar(df['Categoria'], df['Valore'], color='skyblue',ec='black')\n",
    "\n",
    "# Aggiungere etichette agli assi e al titolo\n",
    "plt.xlabel('Categoria')\n",
    "plt.ylabel('Valore')\n",
    "plt.title('Grafico a barre dei dati del DataFrame')\n",
    "\n",
    "\n",
    "plt.show()"
   ]
  },
  {
   "cell_type": "code",
   "execution_count": 85,
   "metadata": {},
   "outputs": [
    {
     "data": {
      "image/png": "[encoded data removed]",
      "text/plain": [
       "<Figure size 640x480 with 1 Axes>"
      ]
     },
     "metadata": {},
     "output_type": "display_data"
    }
   ],
   "source": [
    "#29 Esercizio\n",
    "\n",
    "# Creare un DataFrame di esempio\n",
    "data = {\n",
    "    'Eta': [22, 30, 17, 8, 15,33,30,19,20,12,19,13],\n",
    "    'Altezza': [1.80, 1.78, 1.66, 1.24, 1.40, 1.68, 1.90,1.75,1.78,1.50,1.82,1.55]\n",
    "}\n",
    "df = pd.DataFrame(data)\n",
    "\n",
    "# Creare il diagramma a dispersione\n",
    "plt.scatter(df['Eta'], df['Altezza'], color='red', marker='o')\n",
    "\n",
    "# Aggiungere etichette agli assi e al titolo\n",
    "plt.xlabel('Eta')\n",
    "plt.ylabel('Altezza')\n",
    "plt.title('Altezze dei Ragazzi')\n",
    "\n",
    "\n",
    "plt.show()\n",
    "\n"
   ]
  },
  {
   "cell_type": "code",
   "execution_count": 86,
   "metadata": {},
   "outputs": [
    {
     "data": {
      "image/png": "[encoded data removed]",
      "text/plain": [
       "<Figure size 640x480 with 1 Axes>"
      ]
     },
     "metadata": {},
     "output_type": "display_data"
    }
   ],
   "source": [
    "#30 Esercizio\n",
    "\n",
    "# Creare un DataFrame di esempio delle altezze dei maschi e femmine\n",
    "data = {\n",
    "    'Ragazzi': [1.80, 1.78, 1.66, 1.24, 1.40, 1.68, 1.90,1.75,1.78,1.50,1.82,1.55],\n",
    "    'Ragazze': [1.50, 1.45, 1.66, 1.30, 1.30, 1.58, 1.60,1.64,1.70,1.56,1.62,1.59]\n",
    "}\n",
    "df = pd.DataFrame(data)\n",
    "\n",
    "# Creare il box plot\n",
    "plt.boxplot([df['Ragazzi'], df['Ragazze']])\n",
    "\n",
    "# Aggiungere etichette agli assi e al titolo\n",
    "plt.xticks([1, 2], ['Ragazzi', 'Ragazze'])\n",
    "plt.ylabel('Altezza')\n",
    "plt.title('Box plot delle altezze dei due gruppi')\n",
    "\n",
    "\n",
    "plt.show()"
   ]
  },
  {
   "cell_type": "code",
   "execution_count": 87,
   "metadata": {},
   "outputs": [],
   "source": [
    "# 31 Esercizio\n",
    "class TitoliSpider(scrapy.Spider):\n",
    "    name = 'titoli'\n",
    "    start_urls = ['http://www.bbc.co.uk']\n",
    "\n",
    "    def parse(self, response):\n",
    "        # Estrai i titoli utilizzando XPath\n",
    "        titoli = response.xpath('//title/text()').getall()\n",
    "\n",
    "        # Restituisci i titoli estratti\n",
    "        for titolo in titoli:\n",
    "            yield {\n",
    "                'titolo': titolo\n",
    "            }"
   ]
  },
  {
   "cell_type": "code",
   "execution_count": 88,
   "metadata": {},
   "outputs": [],
   "source": [
    "#32 Esercizio\n",
    "class LinksSpider(scrapy.Spider):\n",
    "    name = 'links'\n",
    "    start_urls = ['http://bbc.co.uk']\n",
    "\n",
    "    def parse(self, response):\n",
    "        # Estrai tutti i link dalla pagina\n",
    "        links = response.css('a::attr(href)').getall()\n",
    "\n",
    "        # Restituisci i link estratti\n",
    "        for link in links:\n",
    "            yield {\n",
    "                'link': link\n",
    "            }"
   ]
  },
  {
   "cell_type": "code",
   "execution_count": 89,
   "metadata": {},
   "outputs": [],
   "source": [
    "#33 Esercizio\n",
    "\n",
    "class EcommerceSpider(scrapy.Spider):\n",
    "    name = 'ecommerce'\n",
    "    start_urls = ['http://www2.hm.com/it_it/donna/super-prezzi/top-products']\n",
    "\n",
    "    def parse(self, response):\n",
    "        # Estrai le informazioni desiderate dalla pagina corrente\n",
    "        # Qui puoi utilizzare i selettori CSS o XPath per estrarre i dati\n",
    "\n",
    "        # Esempio di come estrarre il nome del prodotto\n",
    "        product_names = response.css('.product-name::text').getall()\n",
    "\n",
    "        # Esempio di come estrarre il prezzo del prodotto\n",
    "        product_prices = response.css('.product-price::text').getall()\n",
    "\n",
    "        # Esempio di come estrarre il link del prodotto\n",
    "        product_links = response.css('.product-link::attr(href)').getall()\n",
    "\n",
    "        # Restituisci i dati estratti\n",
    "        for name, price, link in zip(product_names, product_prices, product_links):\n",
    "            yield {\n",
    "                'nome_prodotto': name,\n",
    "                'prezzo': price,\n",
    "                'link': link\n",
    "            }\n",
    "\n",
    "        # Verifica se ci sono altre pagine da visitare e, se sì, continua a paginare\n",
    "        next_page = response.css('a.next-page-link::attr(href)').get()\n",
    "        if next_page:\n",
    "            yield scrapy.Request(url=next_page, callback=self.parse)"
   ]
  },
  {
   "cell_type": "code",
   "execution_count": null,
   "metadata": {},
   "outputs": [],
   "source": []
  }
 ],
 "metadata": {
  "kernelspec": {
   "display_name": "Python 3",
   "language": "python",
   "name": "python3"
  },
  "language_info": {
   "codemirror_mode": {
    "name": "ipython",
    "version": 3
   },
   "file_extension": ".py",
   "mimetype": "text/x-python",
   "name": "python",
   "nbconvert_exporter": "python",
   "pygments_lexer": "ipython3",
   "version": "3.12.1"
  }
 },
 "nbformat": 4,
 "nbformat_minor": 2
}
